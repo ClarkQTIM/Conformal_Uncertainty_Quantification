{
 "cells": [
  {
   "cell_type": "markdown",
   "metadata": {},
   "source": [
    "# Notebook Setup and Resources"
   ]
  },
  {
   "cell_type": "markdown",
   "metadata": {},
   "source": [
    "This notebook is to serve as an overview of *Conformal Uncertainty Quantification* to be used in the final project for MATH 6388: Statistical and Machine Learning at the University of Colorado Denver, Fall 2023.\n",
    "\n",
    "It will, to begin, contain an summary of the relevant theory/mathematics and examples illustrating the concepts.\n",
    "\n",
    "This notebook draws heavily from the following resources:\n",
    "\n",
    "A Tutorial on Conformal Prediction: https://www.youtube.com/watch?v=nql000Lu_iE&list=PLBa0oe-LYIHa68NOJbMxDTMMjT8Is4WkI&index=6\n",
    "\n",
    "A Gentle Introduction to Conformal Prediction and Distribution-Free Uncertainty Quantification: https://arxiv.org/abs/2107.07511\n",
    "\n",
    "Conformal prediction under ambiguous ground truth: https://arxiv.org/abs/2307.09302"
   ]
  },
  {
   "cell_type": "markdown",
   "metadata": {},
   "source": [
    "# Classification"
   ]
  },
  {
   "cell_type": "markdown",
   "metadata": {},
   "source": [
    "## Problem Statement\n",
    "\n",
    "In classification, our goal is to develop a model, call it $\\hat{f}_y(x)$, which estimates the quantity $\\pi_y(x) = \\mathbb{P}[Y=y|X=x]$\n",
    "\n",
    "This could be either a single value in $[0,1]$ for binary classification, or a probability vector over $K$ classes, such that $\\pi_y(x) = [p_0,...,p_{K-1}], \\sum_{i=0}^{K-1} p_i = 1$\n",
    "\n",
    "Instead, we would like to have a better idea of what our model thinks about the new data point than a raw probability. We will construct a set $\\hat{C}(x_{n+1}) \\subseteq \\mathcal{Y}$, where $\\mathcal{Y}$ is all our possible classes (i.e., $|\\mathcal{Y}| = K$), such that $\\mathbb{P}[y_{n+1} \\in \\hat{C}(x_{n+1})] \\geq 1-\\alpha$.\n",
    "\n",
    "In words, we are looking for a set of possible classes such that, with some probability $1- \\alpha$, the *true* $y$ is in that set. Now, there is an obvious trivial solution, just let $\\hat{C}(x_{n+1}) = \\mathcal{Y}$, as the true label will be in the set of all labels with 100% probability, but this isn't interesting.\n",
    "\n",
    "Thus, we will modify our objective to:\n",
    "\n",
    "$$ \\hat{C}(x_{n+1}) \\subset \\mathcal{Y} $$\n",
    "\n",
    "Such that:\n",
    "\n",
    "$$ \\mathbb{P}[y_{n+1} \\in \\hat{C}(x_{n+1})] \\geq 1-\\alpha $$\n",
    "\n",
    "We call $\\geq 1-\\alpha$ the *coverage* and $\\alpha$ is the error rate, which has low values, such as 0.1, 0.05, etc.\n",
    "\n",
    "Of course, this can't be our *only* criteria, because we could get a probability of $1-\\alpha$ easily with:\n",
    "\n",
    "$$ \\hat{C} = \\begin{cases} \n",
    "\\mathcal{Y} & \\text{with prob} & 1-\\alpha \\\\\n",
    "\\emptyset & \\text{with prob} & \\alpha \n",
    "\\end{cases}$$\n",
    "\n",
    "So, we also want our set $\\hat{C}(x_{n+1})$ to be *small* in some sense of the word and *adaptive* so that we get different sets for different inputs $x_{n+1}$.\n",
    "\n",
    "## Method, the Least Ambiguous set-valued Classifier (LAC)\n",
    "\n",
    "To begin, we will divide our data $\\mathcal{X}$ into three sets, $\\mathcal{X}_{train}$, $\\mathcal{X}_{calibration}$, and $\\mathcal{X}_{test}$. \n",
    "\n",
    "The $\\mathcal{X}_{train}$ is our standard training set used to train the model $\\hat{f}$.\n",
    "\n",
    "Now, we have to introduce a *score* function, $s(x,y)$ which tells us how well, in some sense, our model is doing. For classification, the obvious choice is the probability of that specific class. As in, if $\\hat{f}(x)_y = [p_0, \\dots, p_{K-1}]$, we can take:\n",
    "\n",
    "$$ s(x,y) = 1 - \\hat{f}(x)_{y_i} = p_i, \\text{i is the true class} $$\n",
    "\n",
    "Now, why do we want $1 - \\hat{f}(x)_{y_i}$? This will become apparent momentarily. It doesn't *really* matter, it just depends how we set everything up. One could take $\\hat{f}_(x)_{y_i}$ as the score, but then everything we do below will be opposite. For now, we will stick to a *left* or *negative* formulation, which follows. \n",
    "\n",
    "For each element of our calibration set $\\mathcal{X}_{cal}$ we repeat the above process, giving us $\\{s_1, \\dots, s_{n_{cal}} \\}$.\n",
    "\n",
    "From here, we are going to *order* them and find:\n",
    "\n",
    "$$ \\hat{q} = \\lceil (1-\\alpha)(n_{cal} +1) \\rceil \\quad \\text{smallest of } s_i, i \\in \\{1, \\dots, n_{cal} \\}$$\n",
    "\n",
    "Let's take a moment to write out what exactly this $\\hat{q}$ is. It is the value such that at least $1-\\alpha$ percent of examples in our calibration set have scores above this value.\n",
    "\n",
    "We note that the above formulation is just the *quantile*:\n",
    "\n",
    "$$ \\hat{q} = quantile \\left( \\{s_1, \\dots, s_{n_{cal}} \\}; \\frac{\\lceil (1-\\alpha)(n_{cal} +1) \\rceil}{n_{cal}} \\right) $$\n",
    "\n",
    "From this, we can construct our $\\hat{C}(x_{test})$ as:\n",
    "\n",
    "$$ \\hat{C}(x_{test}) = \\{y : s(x_{test}, y_{test}) \\leq \\hat{q}\\} $$\n",
    "\n",
    "Recalling our definition of $s(x,y)$, we can rewrite this as:\n",
    "\n",
    "$$ \\hat{C}(x_{test}) = \\{y : \\hat{f}(x_{test})_y \\geq 1- \\hat{q} \\} $$\n",
    "\n",
    "As in, since we don't have $y_{true}$ for our test point, we are choosing all the scores greater than $1 - \\hat{q}$.\n",
    "\n",
    "For a concrete example, consider that we have three classes and our softmaxed output is $\\hat{f}(x_{test})_y = [0.4, 0.4, 0.2]$. If $\\hat{q} = 0.7$, then $1-\\hat{q} = 0.3$. So, we would get $\\hat{C}(x_{test}) = \\{0, 1\\}$. In this case, we could say that with probability $1-\\alpha$, the true class $y_{test}$ is either class $0$ or $1$.\n",
    "\n",
    "Now, we mentioned that we could also use the *right* or *positive* version of this. We would then construct our set as:\n",
    "\n",
    "$$ \\hat{q} = \\lfloor \\alpha(n_{cal}+1) \\rfloor \\quad \\text{smallest of } s_i, i \\in \\{1, \\dots, n_{cal} \\} $$\n",
    "\n",
    "$$ \\hat{C}(x_{test}) = \\{y: s(x_{test}, y_{test}) \\geq \\hat{q} \\} $$\n",
    "\n",
    "$$ \\hat{C}(x_{test}) = \\{y : \\hat{f}(x_{test})_y \\leq 1 - \\hat{q} \\} $$"
   ]
  },
  {
   "cell_type": "markdown",
   "metadata": {},
   "source": [
    "## Theorem 1\n",
    "\n",
    "$$ 1 - \\alpha \\leq \\mathbb{P}[(y_{test}) \\in \\hat{C}(x_{test})] \\leq 1-\\alpha + \\frac{1}{n_{cal} + 1} $$ \n",
    "\n",
    "For *any* algorithm, dataset, $\\alpha$, and $n_{cal}$."
   ]
  },
  {
   "cell_type": "markdown",
   "metadata": {},
   "source": [
    "## Alterative, the Top-K Algorithm\n",
    "\n",
    "In the *Top-K* algorithm, we will modify our score function a bit.\n",
    "\n",
    "It will be:\n",
    "\n",
    "$$ s(x,y) = j \\quad \\text{where} \\quad y_i = j \\quad \\text{and} \\quad \\hat{f}(x)_{\\pi_1(x)} > \\dots \\hat{f}(x)_{\\pi_j(x)} \\dots > \\hat{f}(x)_{\\pi_K(x)} $$\n",
    "\n",
    "Where $\\pi(x)$ is the permutation of $\\{ 1, \\dots, K \\}$ that sorts $\\hat{f}(x)$ from most likely to least. For a concrete example, suppose we have four classes and our output is $\\hat{f}_y(x)=[0.4, 0.2, 0.3, 0.1]$. We would rearrange our scores to get $[0.4, 0.3, 0.2, 0.1]$, which amounts to $\\pi(x) = \\{ 1, 3, 2, 4 \\}$. If the true class is $y=3$, then we would have $s(x,y) = 2$, because in the permutation, class $3$ is in location $2$.\n",
    "\n",
    "Then, as above, we calculate:\n",
    "\n",
    "$$ \\hat{q} = \\left\\lceil quantile \\left( \\{s_1, \\dots, s_{n_{cal}} \\}; \\frac{\\lceil (1-\\alpha)(n_{cal} +1) \\rceil}{n_{cal}} \\right) \\right\\rceil$$\n",
    "\n",
    "And our final prediction set is:\n",
    "\n",
    "$$\\hat{C}(x_{test}) = \\{ \\pi_1(x_{test}), \\dots, \\pi_{\\hat{q}}(x_{test}) \\} $$"
   ]
  },
  {
   "cell_type": "markdown",
   "metadata": {},
   "source": [
    "## Alternative 2, the Adapative Prediction Sets (APS) Algorithm\n",
    "\n",
    "There are a few issues with the LAC method above. One is that it only uses the output of the model on the calibration set for the true class for each score. This means it is throwing away a large portion of the possible data we might have. Second, it is not as adaptive. However, it does produce on average a smaller size for our $\\hat{C}$, which is nice.\n",
    "\n",
    "Now, we will look at improving the method. The first change will be our scoring function. Before, our score was:\n",
    "\n",
    "$$ s(x,y) = 1 - \\hat{f}_{y_i}(x) = p_i, \\text{i is the true class} $$\n",
    "\n",
    "Now, we will take all the softmaxed output scores and arrange them by size, then take the sum up to the correct class. As in:\n",
    "\n",
    "$$ s(x,y) = \\sum_{j=1}^{k} \\hat{f}(x)_{\\pi_j{(x)}}, \\quad y = \\pi_k(x)$$\n",
    "\n",
    "Consider the example above, where we have four classes and $y_{true} = 3$ (starting our index at 1), or the third class. If our softmax output is $\\hat{f}_y(x)=[0.4, 0.2, 0.3, 0.1]$, we would rearrange our scores to get $[0.4, 0.3, 0.2, 0.1]$ and then sum them up to the rank of $y_{true}$ in this permutation, which would be 2. Thus, $s(x,y)= 0.4 + 0.3 =0.7$ in this case.\n",
    "\n",
    "Now, we proceed as normal:\n",
    "\n",
    "$$ \\hat{q} = quantile \\left( \\{s_1, \\dots, s_{n_{cal}} \\}; \\frac{\\lceil (1-\\alpha)(n_{cal} +1) \\rceil}{n_{cal}} \\right) $$\n",
    "\n",
    "$$ \\hat{C}(x_{\\text{test}}) = \\{ \\pi_1(x_{test}), \\dots, \\pi_k(x_{test}) \\}, \\quad k = \\sup \\left\\{ k' : \\sum_{j=1}^{k'} \\hat{f}(x)_{\\pi_j(x)} < \\hat{q} \\right\\} (+ 1 \\quad \\text{If we want to avoid zero-size sets}) $$\n",
    "\n",
    "For an example, let's say that $\\hat{f}(x_{test}) = [0.3, 0.14, 0.16, 0.4]$ and $\\hat{q} = 0.8$. Then, we would order $\\hat{f}(x_{test})$ to get $[0.4, 0.3, 0.16, 0.14]$. This means our permutation is $\\{4, 1, 3, 2\\}$. We would then see that $0.4 + 0.3$ add to $0.7$, and adding $0.15$ puts us over, so we stop after that (as in, we add until we go over, but *we can go over*). This means $k=3$. Now, $0.4$, $0.3$, and $0.16$ correspond to classes $4$, $1$, and $3$ respectively, so we get $\\hat{C}(x_{test}) = \\{ \\pi_1(x_{test}), \\pi_2(x_{test}), \\pi_3(x_{test}) \\} = \\{1, 3, 4\\}$."
   ]
  },
  {
   "cell_type": "markdown",
   "metadata": {},
   "source": [
    "## Improvements to the APS, Regularized Adaptive Prediction Sets (RAPS)\n",
    "\n",
    "We begin with the same score function, but modify it slightly to:\n",
    "\n",
    "$$ s(x,y) = \\sum_{j=1}^{k} \\hat{f}(x)_{\\pi_j{(x)}} + \\lambda(k-k_{reg})^+, \\quad y = \\pi_k(x)$$\n",
    "\n",
    "Where $\\pi(x)$ is the permutation of $\\{ 1, \\dots, K \\}$ that sorts $\\hat{f}(x)$ from most likely to least, $(z)^+$ denotes the positive part of $z$, $k_{reg}$ is the optimal set size (in the sense that if all prediction sets have $k_{reg}$ elements, then one achieves the desired coverage), and $\\lambda$ is a regularization parameter whose calculation we will explain next.\n",
    "\n",
    "The optimizations of $k_{reg}$ and $\\lambda$ requires an extra data-splitting (by default, 20% of the calibration data). To choose $k_{reg}$, we simply run the Top-K method over this new split and set $k_{reg} = \\hat{q}$. For the choice of $\\lambda$, we follow the guidelines of [3] and try to find the value of lambda such that it minimizes the size of the prediction sets.\n",
    "\n",
    "Now, we proceed as normal:\n",
    "\n",
    "$$ \\hat{q} = quantile \\left( \\{s_1, \\dots, s_{n_{cal}} \\}; \\frac{\\lceil (1-\\alpha)(n_{cal} +1) \\rceil}{n_{cal}} \\right) $$\n",
    "\n",
    "$$ \\hat{C}(x_{\\text{test}}) = \\{ \\pi_1(x_{test}), \\dots, \\pi_k(x_{test}) \\}, \\quad k = \\sup \\left\\{ k' : \\sum_{j=1}^{k'} \\hat{f}(x)_{\\pi_j(x)} + \\lambda(k-k_{reg})^+ < \\hat{q} \\right\\} (+ 1 \\quad \\text{If we want to avoid zero-size sets}) $$\n",
    "\n",
    "[3]: Anastasios Nikolas Angelopoulos, Stephen Bates, Michael Jordan and Jitendra Malik. “Uncertainty Sets for Image Classifiers using Conformal Prediction.” International Conference on Learning Representations 2021."
   ]
  },
  {
   "cell_type": "markdown",
   "metadata": {},
   "source": [
    "## General Pipeline\n",
    "\n",
    "1. Identify a *heuristic* notion of uncertainity. Could be softmax, residuals, etc. \n",
    "2. Define a score function. Perhaps $1-\\hat{f}(x)$ for classification, or $|\\hat{f}(x) - y|$ for regression, etc.\n",
    "3. Compute $\\hat{q}$ with calibration data.\n",
    "4. Create $\\hat{C}(x) = \\{ y: s(x,y) \\leq \\hat{q} \\}$."
   ]
  },
  {
   "cell_type": "markdown",
   "metadata": {},
   "source": [
    "# Worked Examples"
   ]
  },
  {
   "cell_type": "code",
   "execution_count": 1,
   "metadata": {},
   "outputs": [],
   "source": [
    "# PyTorch Classification Model and Associated Functions\n",
    "\n",
    "## Imports\n",
    "import torch\n",
    "from torch import nn\n",
    "import torch.optim as optim\n",
    "from torch.utils.data import DataLoader, TensorDataset\n",
    "import matplotlib.pyplot as plt\n",
    "import numpy as np\n",
    "\n",
    "## Dataloaders\n",
    "def create_dataset_dataloader(X, y, batch_size, shuffle):\n",
    "    \n",
    "    dataset = TensorDataset(X, y)\n",
    "    data_loader = DataLoader(dataset, batch_size=batch_size, shuffle=shuffle)\n",
    "\n",
    "    return data_loader\n",
    "\n",
    "## Define the PyTorch model\n",
    "class CLF_MLP(nn.Module):\n",
    "    def __init__(self, input_size, num_neurons):\n",
    "        super(CLF_MLP, self).__init__()\n",
    "        self.fc1 = nn.Linear(input_size, num_neurons)\n",
    "        self.activation = nn.LeakyReLU(negative_slope=0.3)\n",
    "        self.fc2 = nn.Linear(num_neurons, 3)\n",
    "\n",
    "    def forward(self, x):\n",
    "        x = self.activation(self.fc1(x))\n",
    "        x = self.fc2(x)\n",
    "        return x\n",
    "\n",
    "## Create the Model\n",
    "def create_and_initialize_classification_model(X_train, num_neurons):\n",
    "    ## Initialize the model\n",
    "    input_size = X_train.shape[1]\n",
    "    model = CLF_MLP(input_size, num_neurons)\n",
    "\n",
    "    ## Define loss function and optimizer\n",
    "    criterion = nn.CrossEntropyLoss() # No need for a final softmax layer in the model, as this will apply softmax. No need for one-hot encoding, either!\n",
    "    optimizer = optim.SGD(model.parameters(), lr=0.01)\n",
    "\n",
    "    return model, criterion, optimizer\n",
    "\n",
    "## Accuracy Function\n",
    "def calculate_accuracy(outputs, labels):\n",
    "    _, predicted = torch.max(outputs, 1)\n",
    "    total = labels.size(0)\n",
    "    correct = (predicted == labels).sum().item()\n",
    "    return correct / total\n",
    "\n",
    "## Model Training Function\n",
    "def train_model(model, criterion, optimizer, train_loader, num_epochs):\n",
    "    model.train()\n",
    "    losses = []\n",
    "    accuracies = []\n",
    "\n",
    "    for epoch in range(num_epochs):\n",
    "        running_loss = 0.0\n",
    "        running_accuracy = 0.0\n",
    "        for i, data in enumerate(train_loader, 0):\n",
    "            inputs, labels = data\n",
    "            optimizer.zero_grad()\n",
    "            outputs = model(inputs)\n",
    "            loss = criterion(outputs, labels)\n",
    "            loss.backward()\n",
    "            optimizer.step()\n",
    "            running_loss += loss.item()\n",
    "            accuracy = calculate_accuracy(outputs, labels)\n",
    "            running_accuracy += accuracy\n",
    "\n",
    "        epoch_loss = running_loss / len(train_loader)\n",
    "        epoch_accuracy = running_accuracy / len(train_loader)\n",
    "\n",
    "        # Store loss and accuracy for plotting\n",
    "        losses.append(epoch_loss)\n",
    "        accuracies.append(epoch_accuracy)\n",
    "\n",
    "        print(f'Epoch {epoch + 1}, Loss: {epoch_loss}, Accuracy: {epoch_accuracy}')\n",
    "\n",
    "    # Plotting the performance\n",
    "    plt.figure(figsize=(10, 5))\n",
    "    plt.subplot(1, 2, 1)\n",
    "    plt.plot(losses, label='Training Loss')\n",
    "    plt.xlabel('Epochs')\n",
    "    plt.ylabel('Loss')\n",
    "    plt.legend()\n",
    "\n",
    "    plt.subplot(1, 2, 2)\n",
    "    plt.plot(accuracies, label='Training Accuracy', color='orange')\n",
    "    plt.xlabel('Epochs')\n",
    "    plt.ylabel('Accuracy')\n",
    "    plt.legend()\n",
    "\n",
    "    plt.tight_layout()\n",
    "    plt.show()\n",
    "\n",
    "## Model Prediction\n",
    "def model_prediction_classification(model, inputs):\n",
    "    # Set the model to evaluation mode\n",
    "    model.eval()\n",
    "\n",
    "    # Use the model to predict probabilities for the calibration set\n",
    "    with torch.no_grad():\n",
    "        outputs_cal = model(inputs)\n",
    "        y_prob = torch.nn.functional.softmax(outputs_cal, dim=1).numpy()\n",
    "\n",
    "    return y_prob"
   ]
  },
  {
   "cell_type": "code",
   "execution_count": 17,
   "metadata": {},
   "outputs": [],
   "source": [
    "# Conformal Uncertainity Quantification Functions\n",
    "\n",
    "# Get calibration scores \n",
    "def get_calibration_scores_orig(X_cal, y_cal, y_cal_prob):\n",
    "\n",
    "    n_cal = X_cal.shape[0]\n",
    "\n",
    "    cal_scores = 1 - y_cal_prob[np.arange(n_cal), y_cal]\n",
    "\n",
    "    return cal_scores\n",
    "\n",
    "def get_calibration_scores_adaptive(X_cal, y_cal, y_cal_prob):\n",
    "\n",
    "    # Setup\n",
    "    n_cal=X_cal.shape[0] # number of calibration points\n",
    "\n",
    "    # Calibration Scores\n",
    "    cal_pi = y_cal_prob.argsort(1)[:, ::-1]\n",
    "    cal_srt = np.take_along_axis(y_cal_prob, cal_pi, axis=1).cumsum(axis=1)\n",
    "    cal_scores = np.take_along_axis(cal_srt, cal_pi.argsort(axis=1), axis=1)[\n",
    "        range(n_cal), y_cal\n",
    "    ]\n",
    "\n",
    "    print('cal_pi', cal_pi.shape)\n",
    "    print('cal_srt',cal_srt.shape)\n",
    "    print('cal_scores', cal_scores.shape)\n",
    "\n",
    "    return cal_scores\n",
    "\n",
    "# Get adjusted quantile\n",
    "\n",
    "def find_quantile(cal_scores, alpha):\n",
    "\n",
    "    n_cal = cal_scores.shape[0]\n",
    "\n",
    "    q_level = np.ceil((n_cal + 1) * (1 - alpha)) / n_cal\n",
    "\n",
    "    qhat = np.quantile(cal_scores, q_level, method='higher')\n",
    "    \n",
    "    return qhat \n",
    "\n",
    "# Plot calibration scores and adjusted quantile for various alpha \n",
    "\n",
    "def plot_scores(alphas, cal_scores, quantiles, y_max):\n",
    "    colors = {0: \"#1f77b4\", 1: \"#ff7f0e\", 2: \"#2ca02c\"}\n",
    "    plt.figure(figsize=(5, 3))\n",
    "    plt.rcParams.update({'font.size': 12})\n",
    "    plt.hist(cal_scores, bins=\"auto\")\n",
    "    for i, quantile in enumerate(quantiles):\n",
    "        plt.vlines(\n",
    "            x=quantile,\n",
    "            ymin=0,\n",
    "            ymax=y_max,\n",
    "            color=colors[i],\n",
    "            ls=\"dashed\",\n",
    "            label=f\"alpha = {alphas[i]}\"\n",
    "        )\n",
    "    plt.title(\"Distribution of scores\")\n",
    "    plt.legend()\n",
    "    plt.xlabel(\"Scores\")\n",
    "    plt.ylabel(\"Count\")\n",
    "    plt.show()\n",
    "\n",
    "\n",
    "def cuq_pred_set_orig(cal_scores, alpha, model, X_test, y_test):\n",
    "\n",
    "    qhat = find_quantile(cal_scores, alpha)\n",
    "    y_test_probs = model_prediction_classification(model, X_test)\n",
    "    prediction_sets = y_test_probs >= (1-qhat) \n",
    "\n",
    "    # Mean width of prediction set\n",
    "    mean_width = prediction_sets.sum(axis=1).mean()\n",
    "\n",
    "    ## Percent coverage if we have y_test\n",
    "    if y_test != None:\n",
    "        pct_coverage = prediction_sets[np.arange(X_test.shape[0]), y_test].mean()\n",
    "\n",
    "    print(f'Example prediction sets: {prediction_sets[:5]}')\n",
    "    print('\\n')\n",
    "    print(f'Mean Width of Prediction Set: {mean_width}')\n",
    "\n",
    "    if y_test != None:\n",
    "        print('\\n')\n",
    "        print(f'Percent Coverage: {pct_coverage}')\n",
    "\n",
    "        return prediction_sets, mean_width, pct_coverage, qhat\n",
    "\n",
    "    else:\n",
    "        return prediction_sets, mean_width, qhat\n",
    "\n",
    "def cuq_pred_set_lar(model, cal_scores, X_test_tensor, y_test, alpha):\n",
    "    # Get the score quantile\n",
    "    qhat = find_quantile(cal_scores, alpha)\n",
    "    # Deploy\n",
    "    test_probs = model_prediction_classification(model, X_test_tensor)\n",
    "    val_pi = test_probs.argsort(1)[:, ::-1]\n",
    "    val_srt = np.take_along_axis(test_probs, val_pi, axis=1).cumsum(axis=1)\n",
    "    prediction_sets = np.take_along_axis(val_srt <= qhat, val_pi.argsort(axis=1), axis=1)\n",
    "\n",
    "    print('cal_scores', cal_scores.shape)\n",
    "    print('qhat', qhat.shape)\n",
    "    print('test_probs', test_probs.shape)\n",
    "    print('val_pi',val_pi.shape)\n",
    "    print('prediction_sets',prediction_sets.shape)\n",
    "\n",
    "    # Mean width of prediction set\n",
    "    mean_width = prediction_sets.sum(axis=1).mean()\n",
    "\n",
    "    ## Percent coverage if we have y_test\n",
    "    try:\n",
    "        pct_coverage = prediction_sets[np.arange(prediction_sets.shape[0]), y_test].mean()\n",
    "\n",
    "    except:\n",
    "        print(f'Example prediction sets: {prediction_sets[:5]}')\n",
    "        print('\\n')\n",
    "        print(f'Mean Width of Prediction Set: {mean_width}')\n",
    "\n",
    "    try:\n",
    "        print('\\n')\n",
    "        print(f'Percent Coverage: {pct_coverage}')\n",
    "        return prediction_sets, mean_width, pct_coverage, qhat\n",
    "    except:\n",
    "        return prediction_sets, mean_width, qhat"
   ]
  },
  {
   "cell_type": "markdown",
   "metadata": {},
   "source": [
    "## Classification"
   ]
  },
  {
   "cell_type": "markdown",
   "metadata": {},
   "source": [
    "### Synthetic Classification"
   ]
  },
  {
   "cell_type": "markdown",
   "metadata": {},
   "source": [
    "#### Data Generation"
   ]
  },
  {
   "cell_type": "code",
   "execution_count": 18,
   "metadata": {},
   "outputs": [
    {
     "data": {
      "image/png": "[encoded data removed]",
      "text/plain": [
       "<Figure size 288x216 with 1 Axes>"
      ]
     },
     "metadata": {
      "needs_background": "light"
     },
     "output_type": "display_data"
    }
   ],
   "source": [
    "import numpy as np\n",
    "import matplotlib.pyplot as plt\n",
    "\n",
    "# Set random seed for reproducibility\n",
    "np.random.seed(5)\n",
    "\n",
    "# Generate synthetic data for three-class classification\n",
    "mean_class_1 = [2, 3]\n",
    "cov_class_1 = [[1, 0.5], [0.5, 1]]\n",
    "data_class_1 = np.random.multivariate_normal(mean_class_1, cov_class_1, 200)\n",
    "\n",
    "mean_class_2 = [6, 5]\n",
    "cov_class_2 = [[1, -0.5], [-0.5, 1]]\n",
    "data_class_2 = np.random.multivariate_normal(mean_class_2, cov_class_2, 200)\n",
    "\n",
    "mean_class_3 = [2, 5]\n",
    "cov_class_3 = [[1, 0], [0, 1]]\n",
    "data_class_3 = np.random.multivariate_normal(mean_class_3, cov_class_3, 200)\n",
    "\n",
    "# Combine the three classes into a single dataset\n",
    "X = np.vstack((data_class_1, data_class_2, data_class_3))\n",
    "y = np.hstack((np.zeros(200, dtype=int), np.ones(200, dtype=int),\n",
    "               2 * np.ones(200, dtype=int)))  \n",
    "\n",
    "# Plot the synthetic data\n",
    "plt.rcParams.update({'font.size': 11, \"figure.figsize\": (4,3)})\n",
    "colors = {0: \"#1f77b4\", 1: \"#ff7f0e\", 2:  \"#2ca02c\", 3: \"#d62728\"}\n",
    "y_col = list(map(colors.get, y))\n",
    "\n",
    "plt.scatter(X[:, 0], X[:, 1], c=y_col, marker='o', s=20, edgecolors='k')\n",
    "plt.xlabel('Feature 1')\n",
    "plt.ylabel('Feature 2')\n",
    "plt.tight_layout()\n",
    "plt.show()"
   ]
  },
  {
   "cell_type": "markdown",
   "metadata": {},
   "source": [
    "#### Data preparation"
   ]
  },
  {
   "cell_type": "code",
   "execution_count": 19,
   "metadata": {},
   "outputs": [
    {
     "name": "stdout",
     "output_type": "stream",
     "text": [
      " X_train shape: (200, 2), X_cal shape: (200, 2), X_test shape: (200, 2), y_train shape: (200,)\n"
     ]
    }
   ],
   "source": [
    "# Data Preparation\n",
    "\n",
    "from sklearn.model_selection import train_test_split\n",
    "\n",
    "X_train_cal, X_test, y_train_cal, y_test = train_test_split(\n",
    "    X, y, test_size=1/3, random_state=42)\n",
    "\n",
    "X_train, X_cal, y_train, y_cal = train_test_split(\n",
    "    X_train_cal, y_train_cal, test_size=1/2, random_state=42)\n",
    "\n",
    "print(f' X_train shape: {X_train.shape}, X_cal shape: {X_cal.shape}, X_test shape: {X_test.shape}, y_train shape: {y_train.shape}')\n",
    "\n",
    "# Convert NumPy arrays to PyTorch tensors\n",
    "X_train_tensor = torch.Tensor(X_train)\n",
    "y_train_tensor = torch.LongTensor(y_train)\n",
    "X_cal_tensor = torch.Tensor(X_cal)\n",
    "y_cal_tensor = torch.LongTensor(y_cal)\n",
    "X_test_tensor = torch.Tensor(X_test)\n",
    "y_test_tensor = torch.LongTensor(y_test)"
   ]
  },
  {
   "cell_type": "markdown",
   "metadata": {},
   "source": [
    "#### Training"
   ]
  },
  {
   "cell_type": "code",
   "execution_count": 20,
   "metadata": {},
   "outputs": [
    {
     "name": "stdout",
     "output_type": "stream",
     "text": [
      "Epoch 1, Loss: 0.9085504841804505, Accuracy: 0.595\n",
      "Epoch 2, Loss: 0.7823816299438476, Accuracy: 0.63\n",
      "Epoch 3, Loss: 0.7288480257987976, Accuracy: 0.64\n",
      "Epoch 4, Loss: 0.6988606810569763, Accuracy: 0.645\n",
      "Epoch 5, Loss: 0.6798127603530884, Accuracy: 0.655\n",
      "Epoch 6, Loss: 0.6598459804058074, Accuracy: 0.66\n",
      "Epoch 7, Loss: 0.6593426585197448, Accuracy: 0.65\n",
      "Epoch 8, Loss: 0.6418490087985993, Accuracy: 0.645\n",
      "Epoch 9, Loss: 0.6375942528247833, Accuracy: 0.685\n",
      "Epoch 10, Loss: 0.6324562752246856, Accuracy: 0.68\n",
      "Epoch 11, Loss: 0.6203732967376709, Accuracy: 0.67\n",
      "Epoch 12, Loss: 0.6078579384088516, Accuracy: 0.7\n",
      "Epoch 13, Loss: 0.6023259222507477, Accuracy: 0.705\n",
      "Epoch 14, Loss: 0.5988533771038056, Accuracy: 0.7\n",
      "Epoch 15, Loss: 0.5929466283321381, Accuracy: 0.72\n",
      "Epoch 16, Loss: 0.5864815849065781, Accuracy: 0.735\n",
      "Epoch 17, Loss: 0.5768194174766541, Accuracy: 0.74\n",
      "Epoch 18, Loss: 0.5745164144039154, Accuracy: 0.765\n",
      "Epoch 19, Loss: 0.5762987762689591, Accuracy: 0.75\n",
      "Epoch 20, Loss: 0.5658773744106292, Accuracy: 0.75\n",
      "Epoch 21, Loss: 0.5619978594779969, Accuracy: 0.77\n",
      "Epoch 22, Loss: 0.559584172964096, Accuracy: 0.76\n",
      "Epoch 23, Loss: 0.5544569480419159, Accuracy: 0.77\n",
      "Epoch 24, Loss: 0.5548421561717987, Accuracy: 0.76\n",
      "Epoch 25, Loss: 0.5377486076951027, Accuracy: 0.785\n",
      "Epoch 26, Loss: 0.5395944690704346, Accuracy: 0.78\n",
      "Epoch 27, Loss: 0.5330479049682617, Accuracy: 0.8\n",
      "Epoch 28, Loss: 0.5330520617961884, Accuracy: 0.815\n",
      "Epoch 29, Loss: 0.5269728910923004, Accuracy: 0.805\n",
      "Epoch 30, Loss: 0.5297184008359909, Accuracy: 0.79\n",
      "Epoch 31, Loss: 0.5188337850570679, Accuracy: 0.795\n",
      "Epoch 32, Loss: 0.5250944304466247, Accuracy: 0.795\n",
      "Epoch 33, Loss: 0.5173029690980911, Accuracy: 0.795\n",
      "Epoch 34, Loss: 0.5070029717683792, Accuracy: 0.83\n",
      "Epoch 35, Loss: 0.5109567338228226, Accuracy: 0.805\n",
      "Epoch 36, Loss: 0.4944727277755737, Accuracy: 0.82\n",
      "Epoch 37, Loss: 0.5017221474647522, Accuracy: 0.82\n",
      "Epoch 38, Loss: 0.499279100894928, Accuracy: 0.81\n",
      "Epoch 39, Loss: 0.4993069714307785, Accuracy: 0.8\n",
      "Epoch 40, Loss: 0.49258916020393373, Accuracy: 0.81\n",
      "Epoch 41, Loss: 0.4887408226728439, Accuracy: 0.825\n",
      "Epoch 42, Loss: 0.48641987979412077, Accuracy: 0.805\n",
      "Epoch 43, Loss: 0.48403412103652954, Accuracy: 0.825\n",
      "Epoch 44, Loss: 0.4838332313299179, Accuracy: 0.81\n",
      "Epoch 45, Loss: 0.48182410299777984, Accuracy: 0.83\n",
      "Epoch 46, Loss: 0.47158814370632174, Accuracy: 0.83\n",
      "Epoch 47, Loss: 0.47998056292533875, Accuracy: 0.825\n",
      "Epoch 48, Loss: 0.4711057806015015, Accuracy: 0.84\n",
      "Epoch 49, Loss: 0.4679420366883278, Accuracy: 0.83\n",
      "Epoch 50, Loss: 0.469866378903389, Accuracy: 0.84\n"
     ]
    },
    {
     "data": {
      "image/png": "[encoded data removed]",
      "text/plain": [
       "<Figure size 720x360 with 2 Axes>"
      ]
     },
     "metadata": {
      "needs_background": "light"
     },
     "output_type": "display_data"
    }
   ],
   "source": [
    "# Training\n",
    "\n",
    "## Creating the model\n",
    "num_neurons = 32\n",
    "model, criterion, optimizer = create_and_initialize_classification_model(X_train_tensor, num_neurons)\n",
    "\n",
    "## Getting the data loaders\n",
    "batch_size = 8\n",
    "train_loader = create_dataset_dataloader(X_train_tensor, y_train_tensor, batch_size, True)\n",
    "cal_loader = create_dataset_dataloader(X_cal_tensor, y_cal_tensor, batch_size, True)\n",
    "test_loader = create_dataset_dataloader(X_test_tensor, y_test_tensor, batch_size, True)\n",
    "\n",
    "## Model Training\n",
    "num_epochs = 50\n",
    "train_model(model, criterion, optimizer, train_loader, num_epochs)"
   ]
  },
  {
   "cell_type": "markdown",
   "metadata": {},
   "source": [
    "#### Conformal Uncertainity Quantification"
   ]
  },
  {
   "cell_type": "markdown",
   "metadata": {},
   "source": [
    "##### Original"
   ]
  },
  {
   "cell_type": "code",
   "execution_count": 21,
   "metadata": {},
   "outputs": [
    {
     "data": {
      "image/png": "[encoded data removed]",
      "text/plain": [
       "<Figure size 360x216 with 1 Axes>"
      ]
     },
     "metadata": {
      "needs_background": "light"
     },
     "output_type": "display_data"
    }
   ],
   "source": [
    "# Conformal Uncertainity Quantification\n",
    "\n",
    "## Cal model output probabilities\n",
    "y_cal_prob = model_prediction_classification(model, X_cal_tensor)\n",
    "cal_scores = get_calibration_scores_orig(X_cal_tensor, y_cal_tensor, y_cal_prob)\n",
    "\n",
    "## Quantiles\n",
    "alphas = [0.05, 0.1, 0.2]\n",
    "quantiles = [find_quantile(cal_scores, alpha) for alpha in alphas]\n",
    "\n",
    "## Plotting\n",
    "plot_scores(alphas, cal_scores, quantiles, 65)"
   ]
  },
  {
   "cell_type": "code",
   "execution_count": 22,
   "metadata": {},
   "outputs": [
    {
     "name": "stdout",
     "output_type": "stream",
     "text": [
      "Example prediction sets: [[ True  True False]\n",
      " [ True False  True]\n",
      " [ True False  True]\n",
      " [ True False  True]\n",
      " [ True False  True]]\n",
      "\n",
      "\n",
      "Mean Width of Prediction Set: 1.44\n",
      "\n",
      "\n",
      "Percent Coverage: 0.97\n",
      "Example prediction set: [ True  True False]\n",
      "Mean width: 1.44\n",
      "Percent/Emprical Coverage 0.97\n",
      "Associated q_hat: 0.7726549506187439\n"
     ]
    }
   ],
   "source": [
    "# Prediction Set\n",
    "\n",
    "prediction_sets, mean_width, pct_coverage, qhat = cuq_pred_set_orig(cal_scores, 0.05, model, X_test_tensor, y_test_tensor)\n",
    "print(f'Example prediction set: {prediction_sets[0]}')\n",
    "print(f'Mean width: {mean_width}')\n",
    "print(f'Percent/Emprical Coverage {pct_coverage}')\n",
    "print(f'Associated q_hat: {qhat}')"
   ]
  },
  {
   "cell_type": "markdown",
   "metadata": {},
   "source": [
    "##### Adaptive"
   ]
  },
  {
   "cell_type": "code",
   "execution_count": 23,
   "metadata": {},
   "outputs": [
    {
     "name": "stdout",
     "output_type": "stream",
     "text": [
      "cal_pi (200, 3)\n",
      "cal_srt (200, 3)\n",
      "cal_scores (200,)\n"
     ]
    },
    {
     "data": {
      "image/png": "[encoded data removed]",
      "text/plain": [
       "<Figure size 360x216 with 1 Axes>"
      ]
     },
     "metadata": {
      "needs_background": "light"
     },
     "output_type": "display_data"
    }
   ],
   "source": [
    "# Conformal Uncertainity Quantification\n",
    "\n",
    "## Cal model output probabilities\n",
    "y_cal_prob = model_prediction_classification(model, X_cal_tensor)\n",
    "cal_scores = get_calibration_scores_adaptive(X_cal, y_cal, y_cal_prob)\n",
    "\n",
    "## Quantiles\n",
    "alphas = [0.05, 0.1, 0.2]\n",
    "quantiles = [find_quantile(cal_scores, alpha) for alpha in alphas]\n",
    "\n",
    "## Plotting\n",
    "plot_scores(alphas, cal_scores, quantiles, 80)"
   ]
  },
  {
   "cell_type": "code",
   "execution_count": 24,
   "metadata": {},
   "outputs": [
    {
     "name": "stdout",
     "output_type": "stream",
     "text": [
      "cal_scores (200,)\n",
      "qhat ()\n",
      "test_probs (200, 3)\n",
      "val_pi (200, 3)\n",
      "prediction_sets (200, 3)\n",
      "\n",
      "\n",
      "Percent Coverage: 0.93\n",
      "Example prediction set: [ True  True False]\n",
      "Mean width: 1.6\n",
      "Percent/Emprical Coverage 0.93\n",
      "Associated q_hat: 0.9924300312995911\n"
     ]
    }
   ],
   "source": [
    "# Prediction Set\n",
    "\n",
    "prediction_sets, mean_width, pct_coverage, qhat = cuq_pred_set_lar(model, cal_scores, X_test_tensor, y_test, 0.1)\n",
    "print(f'Example prediction set: {prediction_sets[0]}')\n",
    "print(f'Mean width: {mean_width}')\n",
    "print(f'Percent/Emprical Coverage {pct_coverage}')\n",
    "print(f'Associated q_hat: {qhat}')"
   ]
  },
  {
   "cell_type": "markdown",
   "metadata": {},
   "source": [
    "Note, with the adaptive, you're guaranteed to have at least one class."
   ]
  },
  {
   "cell_type": "markdown",
   "metadata": {},
   "source": [
    "### Real Classification"
   ]
  },
  {
   "cell_type": "markdown",
   "metadata": {},
   "source": [
    "#### Data Loading"
   ]
  },
  {
   "cell_type": "code",
   "execution_count": 10,
   "metadata": {},
   "outputs": [
    {
     "name": "stdout",
     "output_type": "stream",
     "text": [
      "Our dataset has 178 rows and 14 columns.\n",
      "There are 3 classes.\n",
      "They are Index(['alcohol', 'malic_acid', 'ash', 'alcalinity_of_ash', 'magnesium',\n",
      "       'total_phenols', 'flavanoids', 'nonflavanoid_phenols',\n",
      "       'proanthocyanins', 'color_intensity', 'hue',\n",
      "       'od280/od315_of_diluted_wines', 'proline', 'class'],\n",
      "      dtype='object')\n"
     ]
    },
    {
     "data": {
      "text/html": [
       "<div>\n",
       "<style scoped>\n",
       "    .dataframe tbody tr th:only-of-type {\n",
       "        vertical-align: middle;\n",
       "    }\n",
       "\n",
       "    .dataframe tbody tr th {\n",
       "        vertical-align: top;\n",
       "    }\n",
       "\n",
       "    .dataframe thead th {\n",
       "        text-align: right;\n",
       "    }\n",
       "</style>\n",
       "<table border=\"1\" class=\"dataframe\">\n",
       "  <thead>\n",
       "    <tr style=\"text-align: right;\">\n",
       "      <th></th>\n",
       "      <th>alcohol</th>\n",
       "      <th>malic_acid</th>\n",
       "      <th>ash</th>\n",
       "      <th>alcalinity_of_ash</th>\n",
       "      <th>magnesium</th>\n",
       "      <th>total_phenols</th>\n",
       "      <th>flavanoids</th>\n",
       "      <th>nonflavanoid_phenols</th>\n",
       "      <th>proanthocyanins</th>\n",
       "      <th>color_intensity</th>\n",
       "      <th>hue</th>\n",
       "      <th>od280/od315_of_diluted_wines</th>\n",
       "      <th>proline</th>\n",
       "      <th>class</th>\n",
       "    </tr>\n",
       "  </thead>\n",
       "  <tbody>\n",
       "    <tr>\n",
       "      <th>0</th>\n",
       "      <td>14.23</td>\n",
       "      <td>1.71</td>\n",
       "      <td>2.43</td>\n",
       "      <td>15.6</td>\n",
       "      <td>127.0</td>\n",
       "      <td>2.80</td>\n",
       "      <td>3.06</td>\n",
       "      <td>0.28</td>\n",
       "      <td>2.29</td>\n",
       "      <td>5.64</td>\n",
       "      <td>1.04</td>\n",
       "      <td>3.92</td>\n",
       "      <td>1065.0</td>\n",
       "      <td>0</td>\n",
       "    </tr>\n",
       "    <tr>\n",
       "      <th>1</th>\n",
       "      <td>13.20</td>\n",
       "      <td>1.78</td>\n",
       "      <td>2.14</td>\n",
       "      <td>11.2</td>\n",
       "      <td>100.0</td>\n",
       "      <td>2.65</td>\n",
       "      <td>2.76</td>\n",
       "      <td>0.26</td>\n",
       "      <td>1.28</td>\n",
       "      <td>4.38</td>\n",
       "      <td>1.05</td>\n",
       "      <td>3.40</td>\n",
       "      <td>1050.0</td>\n",
       "      <td>0</td>\n",
       "    </tr>\n",
       "    <tr>\n",
       "      <th>2</th>\n",
       "      <td>13.16</td>\n",
       "      <td>2.36</td>\n",
       "      <td>2.67</td>\n",
       "      <td>18.6</td>\n",
       "      <td>101.0</td>\n",
       "      <td>2.80</td>\n",
       "      <td>3.24</td>\n",
       "      <td>0.30</td>\n",
       "      <td>2.81</td>\n",
       "      <td>5.68</td>\n",
       "      <td>1.03</td>\n",
       "      <td>3.17</td>\n",
       "      <td>1185.0</td>\n",
       "      <td>0</td>\n",
       "    </tr>\n",
       "    <tr>\n",
       "      <th>3</th>\n",
       "      <td>14.37</td>\n",
       "      <td>1.95</td>\n",
       "      <td>2.50</td>\n",
       "      <td>16.8</td>\n",
       "      <td>113.0</td>\n",
       "      <td>3.85</td>\n",
       "      <td>3.49</td>\n",
       "      <td>0.24</td>\n",
       "      <td>2.18</td>\n",
       "      <td>7.80</td>\n",
       "      <td>0.86</td>\n",
       "      <td>3.45</td>\n",
       "      <td>1480.0</td>\n",
       "      <td>0</td>\n",
       "    </tr>\n",
       "    <tr>\n",
       "      <th>4</th>\n",
       "      <td>13.24</td>\n",
       "      <td>2.59</td>\n",
       "      <td>2.87</td>\n",
       "      <td>21.0</td>\n",
       "      <td>118.0</td>\n",
       "      <td>2.80</td>\n",
       "      <td>2.69</td>\n",
       "      <td>0.39</td>\n",
       "      <td>1.82</td>\n",
       "      <td>4.32</td>\n",
       "      <td>1.04</td>\n",
       "      <td>2.93</td>\n",
       "      <td>735.0</td>\n",
       "      <td>0</td>\n",
       "    </tr>\n",
       "  </tbody>\n",
       "</table>\n",
       "</div>"
      ],
      "text/plain": [
       "   alcohol  malic_acid   ash  alcalinity_of_ash  magnesium  total_phenols  \\\n",
       "0    14.23        1.71  2.43               15.6      127.0           2.80   \n",
       "1    13.20        1.78  2.14               11.2      100.0           2.65   \n",
       "2    13.16        2.36  2.67               18.6      101.0           2.80   \n",
       "3    14.37        1.95  2.50               16.8      113.0           3.85   \n",
       "4    13.24        2.59  2.87               21.0      118.0           2.80   \n",
       "\n",
       "   flavanoids  nonflavanoid_phenols  proanthocyanins  color_intensity   hue  \\\n",
       "0        3.06                  0.28             2.29             5.64  1.04   \n",
       "1        2.76                  0.26             1.28             4.38  1.05   \n",
       "2        3.24                  0.30             2.81             5.68  1.03   \n",
       "3        3.49                  0.24             2.18             7.80  0.86   \n",
       "4        2.69                  0.39             1.82             4.32  1.04   \n",
       "\n",
       "   od280/od315_of_diluted_wines  proline  class  \n",
       "0                          3.92   1065.0      0  \n",
       "1                          3.40   1050.0      0  \n",
       "2                          3.17   1185.0      0  \n",
       "3                          3.45   1480.0      0  \n",
       "4                          2.93    735.0      0  "
      ]
     },
     "execution_count": 10,
     "metadata": {},
     "output_type": "execute_result"
    }
   ],
   "source": [
    "# Loading in the data\n",
    "\n",
    "from sklearn.datasets import load_wine\n",
    "\n",
    "data = load_wine(as_frame = True)\n",
    "\n",
    "df_raw = data['data']\n",
    "\n",
    "df_raw['class'] = data['target'] \n",
    "\n",
    "print(f'Our dataset has {len(df_raw)} rows and {len(df_raw.columns)} columns.')\n",
    "print(f\"There are {len(np.unique(df_raw['class']))} classes.\")\n",
    "print(f'They are {df_raw.columns}')\n",
    "df_raw.head()"
   ]
  },
  {
   "cell_type": "markdown",
   "metadata": {},
   "source": [
    "#### Data preparation"
   ]
  },
  {
   "cell_type": "code",
   "execution_count": 11,
   "metadata": {},
   "outputs": [
    {
     "name": "stdout",
     "output_type": "stream",
     "text": [
      " X_train shape: (59, 13), X_cal shape: (59, 13), X_test shape: (60, 13), y_train shape: (59,)\n"
     ]
    }
   ],
   "source": [
    "# Data Preparation\n",
    "\n",
    "from sklearn.model_selection import train_test_split\n",
    "from sklearn.preprocessing import StandardScaler\n",
    "\n",
    "## Creating X and y\n",
    "X = np.array(df_raw.drop(columns = ['class'])) # We are using all the features, so we will drop the 'class' column from the dataset\n",
    "y = np.array(df_raw['class'])\n",
    "\n",
    "## Splitting\n",
    "X_train_cal, X_test, y_train_cal, y_test = train_test_split(\n",
    "    X, y, test_size=1/3, random_state=42)\n",
    "\n",
    "X_train, X_cal, y_train, y_cal = train_test_split(\n",
    "    X_train_cal, y_train_cal, test_size=1/2, random_state=42)\n",
    "\n",
    "print(f' X_train shape: {X_train.shape}, X_cal shape: {X_cal.shape}, X_test shape: {X_test.shape}, y_train shape: {y_train.shape}')\n",
    "\n",
    "## Fitting the standard scaler on X_train\n",
    "scaler = StandardScaler()\n",
    "X_train = scaler.fit_transform(X_train) # Fitting and transforming on X_train\n",
    "X_test = scaler.transform(X_test) # Only transforming on the X_test\n",
    "X_cal = scaler.transform(X_cal) # Only transforming on the X_test\n",
    "\n",
    "\n",
    "## Convert NumPy arrays to PyTorch tensors\n",
    "X_train_tensor = torch.Tensor(X_train)\n",
    "y_train_tensor = torch.LongTensor(y_train)\n",
    "X_cal_tensor = torch.Tensor(X_cal)\n",
    "y_cal_tensor = torch.LongTensor(y_cal)\n",
    "X_test_tensor = torch.Tensor(X_test)\n",
    "y_test_tensor = torch.LongTensor(y_test)"
   ]
  },
  {
   "cell_type": "markdown",
   "metadata": {},
   "source": [
    "#### Training"
   ]
  },
  {
   "cell_type": "code",
   "execution_count": 12,
   "metadata": {},
   "outputs": [
    {
     "name": "stdout",
     "output_type": "stream",
     "text": [
      "Epoch 1, Loss: 1.0331644713878632, Accuracy: 0.4791666666666667\n",
      "Epoch 2, Loss: 0.9573723450303078, Accuracy: 0.5989583333333334\n",
      "Epoch 3, Loss: 0.8895149007439613, Accuracy: 0.703125\n",
      "Epoch 4, Loss: 0.8332795798778534, Accuracy: 0.765625\n",
      "Epoch 5, Loss: 0.7918970808386803, Accuracy: 0.8177083333333334\n",
      "Epoch 6, Loss: 0.7392884567379951, Accuracy: 0.890625\n",
      "Epoch 7, Loss: 0.6791606247425079, Accuracy: 0.90625\n",
      "Epoch 8, Loss: 0.636820413172245, Accuracy: 0.90625\n",
      "Epoch 9, Loss: 0.6032135337591171, Accuracy: 0.8958333333333334\n",
      "Epoch 10, Loss: 0.5619586370885372, Accuracy: 0.921875\n",
      "Epoch 11, Loss: 0.5243209637701511, Accuracy: 0.9375\n",
      "Epoch 12, Loss: 0.49268414452672005, Accuracy: 0.9375\n",
      "Epoch 13, Loss: 0.4807446151971817, Accuracy: 0.9375\n",
      "Epoch 14, Loss: 0.4493260756134987, Accuracy: 0.9375\n",
      "Epoch 15, Loss: 0.43015411868691444, Accuracy: 0.9375\n",
      "Epoch 16, Loss: 0.41442733258008957, Accuracy: 0.9375\n",
      "Epoch 17, Loss: 0.378855861723423, Accuracy: 0.96875\n",
      "Epoch 18, Loss: 0.3853672742843628, Accuracy: 0.9270833333333334\n",
      "Epoch 19, Loss: 0.3582782819867134, Accuracy: 0.984375\n",
      "Epoch 20, Loss: 0.3222982231527567, Accuracy: 0.984375\n",
      "Epoch 21, Loss: 0.31979700922966003, Accuracy: 1.0\n",
      "Epoch 22, Loss: 0.3055017925798893, Accuracy: 1.0\n",
      "Epoch 23, Loss: 0.29808732867240906, Accuracy: 1.0\n",
      "Epoch 24, Loss: 0.2847425602376461, Accuracy: 0.984375\n",
      "Epoch 25, Loss: 0.29819922894239426, Accuracy: 0.9583333333333334\n",
      "Epoch 26, Loss: 0.27621319703757763, Accuracy: 0.984375\n",
      "Epoch 27, Loss: 0.24893089942634106, Accuracy: 0.984375\n",
      "Epoch 28, Loss: 0.23565403185784817, Accuracy: 0.984375\n",
      "Epoch 29, Loss: 0.2428539227694273, Accuracy: 0.984375\n",
      "Epoch 30, Loss: 0.2212538067251444, Accuracy: 0.984375\n",
      "Epoch 31, Loss: 0.23480540607124567, Accuracy: 0.9583333333333334\n",
      "Epoch 32, Loss: 0.2091762013733387, Accuracy: 0.984375\n",
      "Epoch 33, Loss: 0.2095505902543664, Accuracy: 0.984375\n",
      "Epoch 34, Loss: 0.19247285928577185, Accuracy: 0.984375\n",
      "Epoch 35, Loss: 0.19650637032464147, Accuracy: 0.984375\n",
      "Epoch 36, Loss: 0.17943210527300835, Accuracy: 0.984375\n",
      "Epoch 37, Loss: 0.17907132767140865, Accuracy: 0.984375\n",
      "Epoch 38, Loss: 0.17772549204528332, Accuracy: 0.984375\n",
      "Epoch 39, Loss: 0.17927390802651644, Accuracy: 0.984375\n",
      "Epoch 40, Loss: 0.16157713998109102, Accuracy: 0.984375\n",
      "Epoch 41, Loss: 0.15846309810876846, Accuracy: 0.984375\n",
      "Epoch 42, Loss: 0.15492051653563976, Accuracy: 0.984375\n",
      "Epoch 43, Loss: 0.15437640994787216, Accuracy: 0.984375\n",
      "Epoch 44, Loss: 0.15566279739141464, Accuracy: 0.984375\n",
      "Epoch 45, Loss: 0.13903570920228958, Accuracy: 0.984375\n",
      "Epoch 46, Loss: 0.13944149296730757, Accuracy: 0.984375\n",
      "Epoch 47, Loss: 0.1331915771588683, Accuracy: 0.984375\n",
      "Epoch 48, Loss: 0.14943731389939785, Accuracy: 0.9583333333333334\n",
      "Epoch 49, Loss: 0.12646440416574478, Accuracy: 0.984375\n",
      "Epoch 50, Loss: 0.12299891863949597, Accuracy: 0.984375\n"
     ]
    },
    {
     "data": {
      "image/png": "[encoded data removed]",
      "text/plain": [
       "<Figure size 720x360 with 2 Axes>"
      ]
     },
     "metadata": {
      "needs_background": "light"
     },
     "output_type": "display_data"
    }
   ],
   "source": [
    "# Training\n",
    "\n",
    "## Creating the model\n",
    "num_neurons = 32\n",
    "model, criterion, optimizer = create_and_initialize_classification_model(X_train_tensor, num_neurons)\n",
    "\n",
    "## Getting the data loaders\n",
    "batch_size = 8\n",
    "train_loader = create_dataset_dataloader(X_train_tensor, y_train_tensor, batch_size, True)\n",
    "cal_loader = create_dataset_dataloader(X_cal_tensor, y_cal_tensor, batch_size, True)\n",
    "test_loader = create_dataset_dataloader(X_test_tensor, y_test_tensor, batch_size, True)\n",
    "\n",
    "## Model Training\n",
    "num_epochs = 50\n",
    "train_model(model, criterion, optimizer, train_loader, num_epochs)"
   ]
  },
  {
   "cell_type": "markdown",
   "metadata": {},
   "source": [
    "#### Conformal Uncertainity Quantification"
   ]
  },
  {
   "cell_type": "markdown",
   "metadata": {},
   "source": [
    "##### Original"
   ]
  },
  {
   "cell_type": "code",
   "execution_count": 13,
   "metadata": {},
   "outputs": [
    {
     "data": {
      "image/png": "[encoded data removed]",
      "text/plain": [
       "<Figure size 360x216 with 1 Axes>"
      ]
     },
     "metadata": {
      "needs_background": "light"
     },
     "output_type": "display_data"
    }
   ],
   "source": [
    "# Conformal Uncertainity Quantification\n",
    "\n",
    "## Cal model output probabilities\n",
    "y_cal_prob = model_prediction_classification(model, X_cal_tensor)\n",
    "cal_scores = get_calibration_scores_orig(X_cal_tensor, y_cal_tensor, y_cal_prob)\n",
    "\n",
    "## Quantiles\n",
    "alphas = [0.05, 0.1, 0.2]\n",
    "quantiles = [find_quantile(cal_scores, alpha) for alpha in alphas]\n",
    "\n",
    "## Plotting\n",
    "plot_scores(alphas, cal_scores, quantiles, 30)"
   ]
  },
  {
   "cell_type": "code",
   "execution_count": 14,
   "metadata": {},
   "outputs": [
    {
     "name": "stdout",
     "output_type": "stream",
     "text": [
      "Example prediction sets: [[ True False False]\n",
      " [ True False False]\n",
      " [False False  True]\n",
      " [ True False False]\n",
      " [False  True False]]\n",
      "\n",
      "\n",
      "Mean Width of Prediction Set: 0.9666666666666667\n",
      "\n",
      "\n",
      "Percent Coverage: 0.9666666666666667\n"
     ]
    }
   ],
   "source": [
    "# Prediction Set\n",
    "\n",
    "prediction_sets, mean_width, pct_coverage, qhat = cuq_pred_set_orig(cal_scores, 0.1, model, X_test_tensor, y_test_tensor)"
   ]
  },
  {
   "cell_type": "markdown",
   "metadata": {},
   "source": [
    "##### Adaptive"
   ]
  },
  {
   "cell_type": "code",
   "execution_count": 15,
   "metadata": {},
   "outputs": [
    {
     "data": {
      "image/png": "[encoded data removed]",
      "text/plain": [
       "<Figure size 360x216 with 1 Axes>"
      ]
     },
     "metadata": {
      "needs_background": "light"
     },
     "output_type": "display_data"
    }
   ],
   "source": [
    "# Conformal Uncertainity Quantification\n",
    "\n",
    "## Cal model output probabilities\n",
    "y_cal_prob = model_prediction_classification(model, X_cal_tensor)\n",
    "cal_scores = get_calibration_scores_adaptive(X_cal, y_cal, y_cal_prob)\n",
    "X_cal_wine = X_cal\n",
    "y_cal_wine = y_cal\n",
    "y_cal_prob_wine = y_cal_prob\n",
    "## Quantiles\n",
    "alphas = [0.05, 0.1, 0.2]\n",
    "quantiles = [find_quantile(cal_scores, alpha) for alpha in alphas]\n",
    "\n",
    "## Plotting\n",
    "plot_scores(alphas, cal_scores, quantiles, 20)"
   ]
  },
  {
   "cell_type": "code",
   "execution_count": 16,
   "metadata": {},
   "outputs": [
    {
     "name": "stdout",
     "output_type": "stream",
     "text": [
      "\n",
      "\n",
      "Percent Coverage: 0.9833333333333333\n",
      "Example prediction set: [ True  True False]\n",
      "Mean width: 1.75\n",
      "Percent/Emprical Coverage 0.9833333333333333\n",
      "Associated q_hat: 0.9914429783821106\n"
     ]
    }
   ],
   "source": [
    "# Prediction Set\n",
    "\n",
    "prediction_sets, mean_width, pct_coverage, qhat = cuq_pred_set_lar(model, cal_scores, X_test_tensor, y_test, 0.1)\n",
    "print(f'Example prediction set: {prediction_sets[0]}')\n",
    "print(f'Mean width: {mean_width}')\n",
    "print(f'Percent/Emprical Coverage {pct_coverage}')\n",
    "print(f'Associated q_hat: {qhat}')"
   ]
  }
 ],
 "metadata": {
  "kernelspec": {
   "display_name": "base",
   "language": "python",
   "name": "python3"
  },
  "language_info": {
   "codemirror_mode": {
    "name": "ipython",
    "version": 3
   },
   "file_extension": ".py",
   "mimetype": "text/x-python",
   "name": "python",
   "nbconvert_exporter": "python",
   "pygments_lexer": "ipython3",
   "version": "3.8.10"
  }
 },
 "nbformat": 4,
 "nbformat_minor": 2
}
